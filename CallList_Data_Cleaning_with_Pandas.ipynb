{
 "cells": [
  {
   "cell_type": "code",
   "execution_count": null,
   "id": "6d10daa0",
   "metadata": {},
   "outputs": [],
   "source": [
    "import pandas as pd\n",
    "\n",
    "import chardet\n"
   ]
  },
  {
   "cell_type": "code",
   "execution_count": null,
   "id": "71da10d6",
   "metadata": {},
   "outputs": [],
   "source": [
    "file_path = r\"C:\\Users\\indir\\OneDrive\\Desktop\\ALEX\\Data analyst portfolia project\\Python\\Customer Call List.xlsx\"\n",
    "\n",
    "with open(file_path, 'rb') as f:\n",
    "    result = chardet.detect(f.read())\n",
    "\n",
    "encoding = result['encoding']\n",
    "df = pd.read_excel(file_path, engine='openpyxl')\n",
    "df"
   ]
  },
  {
   "cell_type": "code",
   "execution_count": null,
   "id": "f3b3ddda",
   "metadata": {},
   "outputs": [],
   "source": [
    "#drop duplicates/remove duplicates and assgignig  it to df now df will be without duplicates\n",
    "df = df.drop_duplicates()\n",
    "df"
   ]
  },
  {
   "cell_type": "code",
   "execution_count": null,
   "id": "e030ae18",
   "metadata": {},
   "outputs": [],
   "source": [
    "# removing columns that are not required for work\n",
    "df = df.drop(columns = 'Not_Useful_Column')\n",
    "df"
   ]
  },
  {
   "cell_type": "code",
   "execution_count": null,
   "id": "53eb18ec",
   "metadata": {},
   "outputs": [],
   "source": [
    "# STRIP _ trimming of data\n",
    "# LSTRIP - trimming from leftside\n",
    "# RSTRIP -  trimming from rigtside\n",
    "df[\"Last_Name\"] = df[\"Last_Name\"].str.lstrip(\"...\")\n",
    "df[\"Last_Name\"] = df[\"Last_Name\"].str.lstrip(\"/\")\n",
    "df[\"Last_Name\"] = df[\"Last_Name\"].str.rstrip(\"_\")\n",
    "df"
   ]
  },
  {
   "cell_type": "code",
   "execution_count": null,
   "id": "2c8a6c8a",
   "metadata": {},
   "outputs": [],
   "source": [
    "df[\"Last_Name\"] = df[\"Last_Name\"].str.strip(\"123._/\")  #another way to remove with one stmt\n",
    "df"
   ]
  },
  {
   "cell_type": "code",
   "execution_count": null,
   "id": "06cd069e",
   "metadata": {},
   "outputs": [],
   "source": [
    "##standardizing the data on phonenumber columns\n",
    "# striping it to number Phone_Number\n",
    "#df[\"Phone_Number\"] = df[\"Phone_Number\"].str.replace(\"[^a-zA-Z0-9]\", \"\")\n",
    "# df\n",
    "#a-zA-Z0-9 this define any character that has small and big alphabets also numerics\n",
    "#^a-zA-Z0-9 this means other than these anyother charcters or symbols \n",
    "# \"[^a-zA-Z0-9]\", \"\" -- replcae with nothing\n",
    "\n",
    "#df[\"Phone_Number\"].apply(lambda x : x[0:3]+ '-' + x[3:6] + '-' + x[6:10])\n",
    "#df[\"Phone_Number\"] = df[\"Phone_Number\"].apply(lambda x: str(x))\n",
    "\n",
    "df[\"Phone_Number\"] = df[\"Phone_Number\"].apply(lambda x: str(x))\n",
    "df"
   ]
  },
  {
   "cell_type": "code",
   "execution_count": null,
   "id": "9357482f",
   "metadata": {},
   "outputs": [],
   "source": [
    "df[\"Phone_Number\"] = df[\"Phone_Number\"].str.replace('[^a-zA-Z0-9]','')\n",
    "\n",
    "df[\"Phone_Number\"].apply(lambda x: x[0:3] + '-' + x[3:6] + '-' + x[6:10])\n",
    "\n",
    "df[\"Phone_Number\"] = df[\"Phone_Number\"].apply(lambda x: str(x))\n",
    "\n",
    "df[\"Phone_Number\"] = df[\"Phone_Number\"].apply(lambda x: x[0:3] + '-' + x[3:6] + '-' + x[6:10])\n",
    "\n",
    "df[\"Phone_Number\"] = df[\"Phone_Number\"].str.replace('nan--','')\n",
    "\n",
    "df[\"Phone_Number\"] = df[\"Phone_Number\"].str.replace('Na--','')\n",
    "df"
   ]
  },
  {
   "cell_type": "code",
   "execution_count": null,
   "id": "6b43f5c5",
   "metadata": {},
   "outputs": [],
   "source": [
    "df"
   ]
  },
  {
   "cell_type": "code",
   "execution_count": null,
   "id": "55c04e2e",
   "metadata": {},
   "outputs": [],
   "source": [
    "#Spliting the columns\n",
    "df['Address'].str.split(',',2, expand =True)\n",
    "\n",
    "#df['Address'].str.split(',',2, expand =True) --> spliting based on , and with 2 indexing i.e, divide into 2 parts, expand =true provide space\n"
   ]
  },
  {
   "cell_type": "code",
   "execution_count": null,
   "id": "b97f3bec",
   "metadata": {},
   "outputs": [],
   "source": [
    "df[[\"Street_address\",\"State\",\"Zip_code\"]] = df['Address'].str.split(',',2, expand =True)\n",
    "#assgining the names to based on spliting \n",
    "df"
   ]
  },
  {
   "cell_type": "code",
   "execution_count": null,
   "id": "200214b2",
   "metadata": {},
   "outputs": [],
   "source": [
    "# replacing column values - standardzing column values\n",
    "df[\"Paying Customer\"] = df[\"Paying Customer\"].str.replace('Yes','Y')\n",
    "df[\"Paying Customer\"] = df[\"Paying Customer\"].str.replace('No','N')\n",
    "df"
   ]
  },
  {
   "cell_type": "code",
   "execution_count": null,
   "id": "46adb22a",
   "metadata": {},
   "outputs": [],
   "source": [
    "df[\"Do_Not_Contact\"] = df[\"Do_Not_Contact\"].str.replace('Yes','Y')\n",
    "df[\"Do_Not_Contact\"] = df[\"Do_Not_Contact\"].str.replace('No','N')\n",
    "df"
   ]
  },
  {
   "cell_type": "code",
   "execution_count": null,
   "id": "9de1ea9d",
   "metadata": {},
   "outputs": [],
   "source": [
    "#df = df.replace('N/a','')\n",
    "#df = df.replace('NaN','')\n",
    "\n",
    "\n",
    "df=df.fillna('')\n",
    "df"
   ]
  },
  {
   "cell_type": "code",
   "execution_count": null,
   "id": "05583fb4",
   "metadata": {},
   "outputs": [],
   "source": [
    "#filtering \n",
    "#need to get number whose phone number is null anddonot call ins N\n",
    "\n",
    "for x in df.index:\n",
    "    if df.loc[x,'Do_Not_Contact']== 'Y':\n",
    "        df.drop(x,inplace = True)\n",
    "df\n",
    "\n",
    "#filtering \n",
    "#need to get number whose phone number is null anddonot call ins N\n",
    "\n",
    "for x in df.index:\n",
    "    if df.loc[x,'Do_Not_Contact']== '':\n",
    "        df.drop(x,inplace = True)\n",
    "df"
   ]
  },
  {
   "cell_type": "code",
   "execution_count": null,
   "id": "bc41101e",
   "metadata": {},
   "outputs": [],
   "source": [
    "for x in df.index:\n",
    "    if df.loc[x, \"Phone_Number\"] == '':\n",
    "        df.drop(x, inplace=True)\n",
    "\n",
    "df\n",
    "\n",
    "#Another way to drop null values\n",
    "#df = df.dropna(subset=\"Phone_Number\"), inplace=True)"
   ]
  },
  {
   "cell_type": "code",
   "execution_count": null,
   "id": "27eac8d3",
   "metadata": {},
   "outputs": [],
   "source": [
    "df =df.reset_index(drop = True)\n",
    "df"
   ]
  },
  {
   "cell_type": "code",
   "execution_count": null,
   "id": "bbc0f3a9",
   "metadata": {},
   "outputs": [],
   "source": []
  }
 ],
 "metadata": {
  "kernelspec": {
   "display_name": "Python 3 (ipykernel)",
   "language": "python",
   "name": "python3"
  },
  "language_info": {
   "codemirror_mode": {
    "name": "ipython",
    "version": 3
   },
   "file_extension": ".py",
   "mimetype": "text/x-python",
   "name": "python",
   "nbconvert_exporter": "python",
   "pygments_lexer": "ipython3",
   "version": "3.10.9"
  }
 },
 "nbformat": 4,
 "nbformat_minor": 5
}
